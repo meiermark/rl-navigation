{
 "cells": [
  {
   "cell_type": "markdown",
   "metadata": {},
   "source": [
    "# Navigation\n",
    "\n",
    "---\n",
    "\n",
    "Playground for deep reinforcement learning with Unity ML-Agents environment.\n",
    "\n",
    "### 1. Start the Environment\n"
   ]
  },
  {
   "cell_type": "code",
   "execution_count": 1,
   "metadata": {},
   "outputs": [],
   "source": [
    "from unityagents import UnityEnvironment\n",
    "import numpy as np"
   ]
  },
  {
   "cell_type": "markdown",
   "metadata": {},
   "source": [
    "Starting the environment!\n",
    "Adjust the `file_name` parameter to the location of the downloaded Unity environment (see README).\n"
   ]
  },
  {
   "cell_type": "code",
   "execution_count": 2,
   "metadata": {},
   "outputs": [
    {
     "name": "stderr",
     "output_type": "stream",
     "text": [
      "INFO:unityagents:\n",
      "'Academy' started successfully!\n",
      "Unity Academy name: Academy\n",
      "        Number of Brains: 1\n",
      "        Number of External Brains : 1\n",
      "        Lesson number : 0\n",
      "        Reset Parameters :\n",
      "\t\t\n",
      "Unity brain name: BananaBrain\n",
      "        Number of Visual Observations (per agent): 0\n",
      "        Vector Observation space type: continuous\n",
      "        Vector Observation space size (per agent): 37\n",
      "        Number of stacked Vector Observation: 1\n",
      "        Vector Action space type: discrete\n",
      "        Vector Action space size (per agent): 4\n",
      "        Vector Action descriptions: , , , \n"
     ]
    }
   ],
   "source": [
    "env = UnityEnvironment(file_name=\"Banana_Linux/Banana.x86\")"
   ]
  },
  {
   "cell_type": "markdown",
   "metadata": {},
   "source": [
    "Unity-ML environments contain **_brains_** which are responsible for deciding the actions of their associated agents."
   ]
  },
  {
   "cell_type": "code",
   "execution_count": 3,
   "metadata": {},
   "outputs": [],
   "source": [
    "# get the default brain\n",
    "brain_name = env.brain_names[0]\n",
    "brain = env.brains[brain_name]"
   ]
  },
  {
   "cell_type": "markdown",
   "metadata": {},
   "source": [
    "### 2. Examine the State and Action Spaces\n",
    "\n",
    "The simulation contains a single agent that navigates a large environment.  At each time step, it has four actions at its disposal:\n",
    "- `0` - walk forward \n",
    "- `1` - walk backward\n",
    "- `2` - turn left\n",
    "- `3` - turn right\n",
    "\n",
    "The state space has `37` dimensions and contains the agent's velocity, along with ray-based perception of objects around agent's forward direction.  A reward of `+1` is provided for collecting a yellow banana, and a reward of `-1` is provided for collecting a blue banana. \n"
   ]
  },
  {
   "cell_type": "code",
   "execution_count": 4,
   "metadata": {},
   "outputs": [
    {
     "name": "stdout",
     "output_type": "stream",
     "text": [
      "Number of agents: 1\n",
      "Number of actions: 4\n",
      "States look like: [1.         0.         0.         0.         0.84408134 0.\n",
      " 0.         1.         0.         0.0748472  0.         1.\n",
      " 0.         0.         0.25755    1.         0.         0.\n",
      " 0.         0.74177343 0.         1.         0.         0.\n",
      " 0.25854847 0.         0.         1.         0.         0.09355672\n",
      " 0.         1.         0.         0.         0.31969345 0.\n",
      " 0.        ]\n",
      "States have length: 37\n"
     ]
    }
   ],
   "source": [
    "# reset the environment\n",
    "env_info = env.reset(train_mode=True)[brain_name]\n",
    "\n",
    "# number of agents in the environment\n",
    "print('Number of agents:', len(env_info.agents))\n",
    "\n",
    "# number of actions\n",
    "action_size = brain.vector_action_space_size\n",
    "print('Number of actions:', action_size)\n",
    "\n",
    "# examine the state space \n",
    "state = env_info.vector_observations[0]\n",
    "print('States look like:', state)\n",
    "state_size = len(state)\n",
    "print('States have length:', state_size)"
   ]
  },
  {
   "cell_type": "markdown",
   "metadata": {},
   "source": [
    "### 3. Take Random Actions in the Environment\n",
    "\n",
    "Performing random actions and getting a reward from the environment till the environment returns done.\n"
   ]
  },
  {
   "cell_type": "code",
   "execution_count": null,
   "metadata": {},
   "outputs": [],
   "source": [
    "env_info = env.reset(train_mode=False)[brain_name] # reset the environment\n",
    "state = env_info.vector_observations[0]            # get the current state\n",
    "score = 0                                          # initialize the score\n",
    "while True:\n",
    "    action = np.random.randint(action_size)        # select an action\n",
    "    env_info = env.step(action)[brain_name]        # send the action to the environment\n",
    "    next_state = env_info.vector_observations[0]   # get the next state\n",
    "    reward = env_info.rewards[0]                   # get the reward\n",
    "    done = env_info.local_done[0]                  # see if episode has finished\n",
    "    score += reward                                # update the score\n",
    "    state = next_state                             # roll over the state to next time step\n",
    "    if done:                                       # exit loop if episode finished\n",
    "        break\n",
    "    \n",
    "print(\"Score: {}\".format(score))"
   ]
  },
  {
   "cell_type": "markdown",
   "metadata": {},
   "source": [
    "### 4. Intelligence incoming!\n"
   ]
  },
  {
   "cell_type": "code",
   "execution_count": 5,
   "metadata": {},
   "outputs": [
    {
     "name": "stdout",
     "output_type": "stream",
     "text": [
      "Use dueling dqn\n",
      "Episode 100\tAverage Score: 4.29\n",
      "Episode 200\tAverage Score: 10.78\n",
      "Episode 300\tAverage Score: 11.50\n",
      "Episode 400\tAverage Score: 12.64\n",
      "Episode 500\tAverage Score: 12.76\n",
      "Episode 600\tAverage Score: 12.30\n",
      "Episode 700\tAverage Score: 12.91\n",
      "Episode 800\tAverage Score: 13.51\n",
      "Episode 900\tAverage Score: 13.08\n",
      "Episode 1000\tAverage Score: 13.06\n",
      "Episode 1100\tAverage Score: 12.83\n",
      "Episode 1200\tAverage Score: 13.49\n",
      "Episode 1300\tAverage Score: 14.15\n",
      "Episode 1400\tAverage Score: 14.72\n",
      "Episode 1500\tAverage Score: 13.82\n",
      "Episode 1600\tAverage Score: 12.98\n",
      "Episode 1700\tAverage Score: 13.21\n",
      "Episode 1800\tAverage Score: 13.83\n",
      "Episode 1900\tAverage Score: 13.46\n",
      "Episode 2000\tAverage Score: 13.53\n"
     ]
    }
   ],
   "source": [
    "from dqn_agent import Agent\n",
    "import torch\n",
    "from collections import deque\n",
    "\n",
    "# using a double dueling dqn with noisy linear layers (-> no epsilon needed for training)\n",
    "agent = Agent(state_size=state_size, action_size=action_size, seed=0, dueling_dqn=True)\n",
    "\n",
    "def dqn(n_episodes=2000, max_t=1000):\n",
    "    \"\"\"Deep Q-Learning.\n",
    "    \n",
    "    Params\n",
    "    ======\n",
    "        n_episodes (int): maximum number of training episodes\n",
    "        max_t (int): maximum number of timesteps per episode\n",
    "    \"\"\"\n",
    "    scores = []                        # list containing scores from each episode\n",
    "    scores_window = deque(maxlen=100)  # last 100 scores\n",
    "    max_value = 13\n",
    "    for i_episode in range(1, n_episodes+1):\n",
    "        env_info = env.reset(train_mode=True)[brain_name]\n",
    "        state = env_info.vector_observations[0]\n",
    "        score = 0\n",
    "        for t in range(max_t):\n",
    "            # choose action\n",
    "            action = agent.act(state)\n",
    "            \n",
    "            # apply action\n",
    "            env_info = env.step(action)[brain_name]\n",
    "            next_state = env_info.vector_observations[0]\n",
    "            reward = env_info.rewards[0]\n",
    "            done = env_info.local_done[0]\n",
    "\n",
    "            agent.step(state, action, reward, next_state, done)\n",
    "            state = next_state\n",
    "            score += reward\n",
    "            if done:\n",
    "                break \n",
    "        scores_window.append(score)       # save most recent score\n",
    "        scores.append(score)              # save most recent score\n",
    "        print('\\rEpisode {}\\tAverage Score: {:.2f}'.format(i_episode, np.mean(scores_window)), end=\"\")\n",
    "        if i_episode % 100 == 0:\n",
    "            print('\\rEpisode {}\\tAverage Score: {:.2f}'.format(i_episode, np.mean(scores_window)))\n",
    "        if np.mean(scores_window)>=max_value:\n",
    "            max_value = np.mean(scores_window)\n",
    "            torch.save(agent.qnetwork_local.state_dict(), 'checkpoint.pth')\n",
    "    return scores\n",
    "\n",
    "scores = dqn()"
   ]
  },
  {
   "cell_type": "code",
   "execution_count": 6,
   "metadata": {},
   "outputs": [
    {
     "name": "stdout",
     "output_type": "stream",
     "text": [
      "Use dueling dqn\n",
      "Episode 100\tAverage Score: 6.72\n",
      "Episode 200\tAverage Score: 9.47\n",
      "Episode 300\tAverage Score: 12.67\n",
      "Saved model with average Score: 13.05\n",
      "Saved model with average Score: 13.10\n",
      "Saved model with average Score: 13.15\n",
      "Saved model with average Score: 13.18\n",
      "Saved model with average Score: 13.21\n",
      "Saved model with average Score: 13.21\n",
      "Saved model with average Score: 13.22\n",
      "Saved model with average Score: 13.29\n",
      "Saved model with average Score: 13.32\n",
      "Saved model with average Score: 13.35\n",
      "Saved model with average Score: 13.35\n",
      "Saved model with average Score: 13.45\n",
      "Saved model with average Score: 13.46\n",
      "Saved model with average Score: 13.49\n",
      "Saved model with average Score: 13.59\n",
      "Saved model with average Score: 13.64\n",
      "Saved model with average Score: 13.67\n",
      "Saved model with average Score: 13.80\n",
      "Saved model with average Score: 13.82\n",
      "Saved model with average Score: 13.88\n",
      "Saved model with average Score: 13.90\n",
      "Saved model with average Score: 13.94\n",
      "Saved model with average Score: 13.98\n",
      "Saved model with average Score: 14.03\n",
      "Saved model with average Score: 14.11\n",
      "Saved model with average Score: 14.19\n",
      "Saved model with average Score: 14.19\n",
      "Saved model with average Score: 14.24\n",
      "Saved model with average Score: 14.29\n",
      "Saved model with average Score: 14.32\n",
      "Saved model with average Score: 14.33\n",
      "Saved model with average Score: 14.34\n",
      "Saved model with average Score: 14.39\n",
      "Saved model with average Score: 14.44\n",
      "Saved model with average Score: 14.48\n",
      "Saved model with average Score: 14.50\n",
      "Saved model with average Score: 14.51\n",
      "Saved model with average Score: 14.55\n",
      "Saved model with average Score: 14.61\n",
      "Saved model with average Score: 14.66\n",
      "Saved model with average Score: 14.68\n",
      "Saved model with average Score: 14.69\n",
      "Saved model with average Score: 14.69\n",
      "Saved model with average Score: 14.71\n",
      "Saved model with average Score: 14.76\n",
      "Saved model with average Score: 14.84\n",
      "Episode 400\tAverage Score: 14.81\n",
      "Saved model with average Score: 14.86\n",
      "Saved model with average Score: 14.86\n",
      "Saved model with average Score: 14.90\n",
      "Saved model with average Score: 14.95\n",
      "Saved model with average Score: 15.00\n",
      "Saved model with average Score: 15.07\n",
      "Saved model with average Score: 15.07\n",
      "Saved model with average Score: 15.16\n",
      "Saved model with average Score: 15.21\n",
      "Saved model with average Score: 15.24\n",
      "Saved model with average Score: 15.28\n",
      "Saved model with average Score: 15.32\n",
      "Episode 500\tAverage Score: 15.48\n",
      "Saved model with average Score: 15.48\n",
      "Saved model with average Score: 15.64\n",
      "Saved model with average Score: 15.72\n",
      "Saved model with average Score: 15.81\n",
      "Saved model with average Score: 15.95\n",
      "Saved model with average Score: 15.95\n",
      "Saved model with average Score: 16.00\n",
      "Saved model with average Score: 16.11\n",
      "Saved model with average Score: 16.19\n",
      "Saved model with average Score: 16.22\n",
      "Saved model with average Score: 16.36\n",
      "Saved model with average Score: 16.39\n",
      "Saved model with average Score: 16.39\n",
      "Saved model with average Score: 16.45\n",
      "Saved model with average Score: 16.53\n",
      "Saved model with average Score: 16.54\n",
      "Saved model with average Score: 16.55\n",
      "Saved model with average Score: 16.55\n",
      "Saved model with average Score: 16.55\n",
      "Saved model with average Score: 16.60\n",
      "Saved model with average Score: 16.62\n",
      "Saved model with average Score: 16.62\n",
      "Saved model with average Score: 16.62\n",
      "Episode 600\tAverage Score: 16.03\n",
      "Episode 700\tAverage Score: 16.39\n"
     ]
    }
   ],
   "source": [
    "from dqn_agent import Agent\n",
    "import torch\n",
    "from collections import deque\n",
    "\n",
    "from utils.nstep_buffer import NStepBuffer\n",
    "\n",
    "# using a double dueling dqn with noisy linear layers (-> no epsilon needed for training)\n",
    "agent = Agent(state_size=state_size, action_size=action_size, seed=0, dueling_dqn=True)\n",
    "\n",
    "# Training with a NStepBuffer\n",
    "def dqn_with_nstep_buffer(n_episodes=700, max_t=1000):\n",
    "    \"\"\"Deep Q-Learning.\n",
    "    \n",
    "    Params\n",
    "    ======\n",
    "        n_episodes (int): maximum number of training episodes\n",
    "        max_t (int): maximum number of timesteps per episode\n",
    "    \"\"\"\n",
    "    # list containing scores from each episode\n",
    "    scores = []                        \n",
    "    # last 100 scores\n",
    "    scores_window = deque(maxlen=100)  \n",
    "    step_buffer = NStepBuffer(step_size=2, gamma=0.99)\n",
    "    max_value = 13\n",
    "    \n",
    "    for i_episode in range(1, n_episodes+1):\n",
    "        env_info = env.reset(train_mode=True)[brain_name]\n",
    "        state = env_info.vector_observations[0]\n",
    "        score = 0\n",
    "        for t in range(max_t):\n",
    "            # choose action\n",
    "            action = agent.act(state)\n",
    "            \n",
    "            # apply action\n",
    "            env_info = env.step(action)[brain_name]\n",
    "            next_state = env_info.vector_observations[0]\n",
    "            reward = env_info.rewards[0]\n",
    "            done = env_info.local_done[0]\n",
    "\n",
    "            step_buffer.append(state, action, reward, next_state, done)\n",
    "            state = next_state\n",
    "            score += reward\n",
    "            if done:\n",
    "                break \n",
    "\n",
    "        for state, action, reward, next_state, done in step_buffer.get_all():\n",
    "            agent.step(state, action, reward, next_state, done)\n",
    "        \n",
    "        # save most recent score\n",
    "        scores_window.append(score)\n",
    "        scores.append(score)              \n",
    "        print('\\rEpisode {}\\tAverage Score: {:.2f}'.format(i_episode, np.mean(scores_window)), end=\"\")\n",
    "        if i_episode % 100 == 0:\n",
    "            print('\\rEpisode {}\\tAverage Score: {:.2f}'.format(i_episode, np.mean(scores_window)))\n",
    "        average_score = np.mean(scores_window)\n",
    "        if average_score >= max_value:\n",
    "            max_value = average_score\n",
    "            print('\\rSaved model with average Score: {:.2f}'.format(average_score))\n",
    "            torch.save(agent.qnetwork_local.state_dict(), 'checkpoint.pth')\n",
    "    return scores\n",
    "\n",
    "scores = dqn_with_nstep_buffer()"
   ]
  },
  {
   "cell_type": "code",
   "execution_count": 8,
   "metadata": {},
   "outputs": [],
   "source": [
    "env.close()"
   ]
  },
  {
   "cell_type": "code",
   "execution_count": 7,
   "metadata": {},
   "outputs": [
    {
     "data": {
      "text/plain": [
       "<Figure size 640x480 with 1 Axes>"
      ]
     },
     "metadata": {},
     "output_type": "display_data"
    }
   ],
   "source": [
    "import matplotlib\n",
    "import matplotlib.pyplot as plt\n",
    "import numpy as np\n",
    "\n",
    "# Data for plotting\n",
    "episode_numbers = np.arange(1, len(scores)+1, 1)\n",
    "\n",
    "fig, ax = plt.subplots()\n",
    "ax.plot(episode_numbers, scores)\n",
    "\n",
    "ax.set(xlabel='# episode', ylabel='reward',\n",
    "       title='Training results')\n",
    "ax.grid()\n",
    "\n",
    "fig.savefig(\"training_results.png\")\n",
    "plt.show()"
   ]
  },
  {
   "cell_type": "code",
   "execution_count": null,
   "metadata": {},
   "outputs": [],
   "source": []
  }
 ],
 "metadata": {
  "kernelspec": {
   "display_name": "drlnd",
   "language": "python",
   "name": "drlnd"
  },
  "language_info": {
   "codemirror_mode": {
    "name": "ipython",
    "version": 3
   },
   "file_extension": ".py",
   "mimetype": "text/x-python",
   "name": "python",
   "nbconvert_exporter": "python",
   "pygments_lexer": "ipython3",
   "version": "3.6.6"
  }
 },
 "nbformat": 4,
 "nbformat_minor": 2
}
